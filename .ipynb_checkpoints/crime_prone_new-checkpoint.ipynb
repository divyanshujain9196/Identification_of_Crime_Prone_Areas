{
 "cells": [
  {
   "cell_type": "code",
   "execution_count": 88,
   "id": "formal-world",
   "metadata": {},
   "outputs": [],
   "source": [
    "import pandas as pd\n",
    "import numpy as np\n",
    "import matplotlib.pyplot as plt\n",
    "from sklearn.model_selection import train_test_split\n",
    "from sklearn.preprocessing import StandardScaler\n",
    "from sklearn.preprocessing import LabelEncoder\n",
    "from sklearn.tree import DecisionTreeClassifier\n",
    "from sklearn.ensemble import RandomForestClassifier\n",
    "from sklearn.svm import SVC\n",
    "from sklearn.cluster import KMeans\n",
    "from sklearn.metrics import accuracy_score, confusion_matrix, classification_report, silhouette_score\n",
    "\n"
   ]
  },
  {
   "cell_type": "code",
   "execution_count": 89,
   "id": "requested-repair",
   "metadata": {},
   "outputs": [],
   "source": [
    "# Load the dataset into a pandas DataFrame\n",
    "df = pd.read_csv('Crime_prone_dataset.csv')"
   ]
  },
  {
   "cell_type": "code",
   "execution_count": 90,
   "id": "automotive-woman",
   "metadata": {},
   "outputs": [
    {
     "data": {
      "text/html": [
       "<div>\n",
       "<style scoped>\n",
       "    .dataframe tbody tr th:only-of-type {\n",
       "        vertical-align: middle;\n",
       "    }\n",
       "\n",
       "    .dataframe tbody tr th {\n",
       "        vertical-align: top;\n",
       "    }\n",
       "\n",
       "    .dataframe thead th {\n",
       "        text-align: right;\n",
       "    }\n",
       "</style>\n",
       "<table border=\"1\" class=\"dataframe\">\n",
       "  <thead>\n",
       "    <tr style=\"text-align: right;\">\n",
       "      <th></th>\n",
       "      <th>District</th>\n",
       "      <th>Event</th>\n",
       "      <th>Circle</th>\n",
       "      <th>Police Station</th>\n",
       "      <th>Caller Source</th>\n",
       "      <th>Event Type</th>\n",
       "      <th>Event Sub-Type</th>\n",
       "      <th>Create Date/Time</th>\n",
       "      <th>Latitude</th>\n",
       "      <th>Longitude</th>\n",
       "    </tr>\n",
       "  </thead>\n",
       "  <tbody>\n",
       "    <tr>\n",
       "      <th>0</th>\n",
       "      <td>LUCKNOW</td>\n",
       "      <td>P01042100004</td>\n",
       "      <td>C1</td>\n",
       "      <td>PS1</td>\n",
       "      <td>PHONE</td>\n",
       "      <td>Information Against Police</td>\n",
       "      <td>Misbehavior By Prv</td>\n",
       "      <td>01-04-2021 00:00</td>\n",
       "      <td>26.834</td>\n",
       "      <td>81.008</td>\n",
       "    </tr>\n",
       "    <tr>\n",
       "      <th>1</th>\n",
       "      <td>LUCKNOW</td>\n",
       "      <td>P01042104316</td>\n",
       "      <td>C1</td>\n",
       "      <td>PS1</td>\n",
       "      <td>PHONE</td>\n",
       "      <td>Threat In Person</td>\n",
       "      <td>Attack</td>\n",
       "      <td>01-04-2021 12:09</td>\n",
       "      <td>26.828</td>\n",
       "      <td>81.014</td>\n",
       "    </tr>\n",
       "    <tr>\n",
       "      <th>2</th>\n",
       "      <td>LUCKNOW</td>\n",
       "      <td>P01042104847</td>\n",
       "      <td>C1</td>\n",
       "      <td>PS1</td>\n",
       "      <td>PHONE</td>\n",
       "      <td>Dispute</td>\n",
       "      <td>Dispute In Hospital</td>\n",
       "      <td>01-04-2021 12:51</td>\n",
       "      <td>26.840</td>\n",
       "      <td>81.009</td>\n",
       "    </tr>\n",
       "    <tr>\n",
       "      <th>3</th>\n",
       "      <td>LUCKNOW</td>\n",
       "      <td>P01042105074</td>\n",
       "      <td>C1</td>\n",
       "      <td>PS1</td>\n",
       "      <td>PHONE</td>\n",
       "      <td>Gambling</td>\n",
       "      <td>Play Cards</td>\n",
       "      <td>01-04-2021 13:10</td>\n",
       "      <td>26.828</td>\n",
       "      <td>81.002</td>\n",
       "    </tr>\n",
       "    <tr>\n",
       "      <th>4</th>\n",
       "      <td>LUCKNOW</td>\n",
       "      <td>P01042105152</td>\n",
       "      <td>C1</td>\n",
       "      <td>PS1</td>\n",
       "      <td>PHONE</td>\n",
       "      <td>Threat In Person</td>\n",
       "      <td>Attack</td>\n",
       "      <td>01-04-2021 13:18</td>\n",
       "      <td>26.834</td>\n",
       "      <td>81.033</td>\n",
       "    </tr>\n",
       "    <tr>\n",
       "      <th>...</th>\n",
       "      <td>...</td>\n",
       "      <td>...</td>\n",
       "      <td>...</td>\n",
       "      <td>...</td>\n",
       "      <td>...</td>\n",
       "      <td>...</td>\n",
       "      <td>...</td>\n",
       "      <td>...</td>\n",
       "      <td>...</td>\n",
       "      <td>...</td>\n",
       "    </tr>\n",
       "    <tr>\n",
       "      <th>5123</th>\n",
       "      <td>LUCKNOW</td>\n",
       "      <td>P30062111143</td>\n",
       "      <td>C2</td>\n",
       "      <td>PS4</td>\n",
       "      <td>PHONE</td>\n",
       "      <td>Dispute</td>\n",
       "      <td>With Neighbor</td>\n",
       "      <td>30-06-2021 17:59</td>\n",
       "      <td>26.866</td>\n",
       "      <td>81.026</td>\n",
       "    </tr>\n",
       "    <tr>\n",
       "      <th>5124</th>\n",
       "      <td>LUCKNOW</td>\n",
       "      <td>P30062111164</td>\n",
       "      <td>C2</td>\n",
       "      <td>PS4</td>\n",
       "      <td>PHONE</td>\n",
       "      <td>Dispute</td>\n",
       "      <td>Dispute Between Ride And Driver</td>\n",
       "      <td>30-06-2021 18:01</td>\n",
       "      <td>26.864</td>\n",
       "      <td>81.006</td>\n",
       "    </tr>\n",
       "    <tr>\n",
       "      <th>5125</th>\n",
       "      <td>LUCKNOW</td>\n",
       "      <td>P30062111341</td>\n",
       "      <td>C2</td>\n",
       "      <td>PS4</td>\n",
       "      <td>PHONE</td>\n",
       "      <td>Cyber Crimes</td>\n",
       "      <td>Bank Account Hacking</td>\n",
       "      <td>30-06-2021 18:10</td>\n",
       "      <td>26.864</td>\n",
       "      <td>80.998</td>\n",
       "    </tr>\n",
       "    <tr>\n",
       "      <th>5126</th>\n",
       "      <td>LUCKNOW</td>\n",
       "      <td>P30062111700</td>\n",
       "      <td>C2</td>\n",
       "      <td>PS4</td>\n",
       "      <td>PHONE</td>\n",
       "      <td>Robbery</td>\n",
       "      <td>On Road</td>\n",
       "      <td>30-06-2021 18:33</td>\n",
       "      <td>26.873</td>\n",
       "      <td>81.023</td>\n",
       "    </tr>\n",
       "    <tr>\n",
       "      <th>5127</th>\n",
       "      <td>LUCKNOW</td>\n",
       "      <td>P30062118243</td>\n",
       "      <td>C2</td>\n",
       "      <td>PS4</td>\n",
       "      <td>PHONE</td>\n",
       "      <td>Threat In Person</td>\n",
       "      <td>Threatening To Kill</td>\n",
       "      <td>30-06-2021 23:59</td>\n",
       "      <td>26.863</td>\n",
       "      <td>81.001</td>\n",
       "    </tr>\n",
       "  </tbody>\n",
       "</table>\n",
       "<p>5128 rows × 10 columns</p>\n",
       "</div>"
      ],
      "text/plain": [
       "     District         Event Circle Police Station Caller Source  \\\n",
       "0     LUCKNOW  P01042100004     C1            PS1         PHONE   \n",
       "1     LUCKNOW  P01042104316     C1            PS1         PHONE   \n",
       "2     LUCKNOW  P01042104847     C1            PS1         PHONE   \n",
       "3     LUCKNOW  P01042105074     C1            PS1         PHONE   \n",
       "4     LUCKNOW  P01042105152     C1            PS1         PHONE   \n",
       "...       ...           ...    ...            ...           ...   \n",
       "5123  LUCKNOW  P30062111143     C2            PS4         PHONE   \n",
       "5124  LUCKNOW  P30062111164     C2            PS4         PHONE   \n",
       "5125  LUCKNOW  P30062111341     C2            PS4         PHONE   \n",
       "5126  LUCKNOW  P30062111700     C2            PS4         PHONE   \n",
       "5127  LUCKNOW  P30062118243     C2            PS4         PHONE   \n",
       "\n",
       "                      Event Type                   Event Sub-Type  \\\n",
       "0     Information Against Police               Misbehavior By Prv   \n",
       "1               Threat In Person                           Attack   \n",
       "2                        Dispute              Dispute In Hospital   \n",
       "3                       Gambling                       Play Cards   \n",
       "4               Threat In Person                           Attack   \n",
       "...                          ...                              ...   \n",
       "5123                     Dispute                    With Neighbor   \n",
       "5124                     Dispute  Dispute Between Ride And Driver   \n",
       "5125                Cyber Crimes             Bank Account Hacking   \n",
       "5126                     Robbery                          On Road   \n",
       "5127            Threat In Person              Threatening To Kill   \n",
       "\n",
       "      Create Date/Time  Latitude  Longitude  \n",
       "0     01-04-2021 00:00    26.834     81.008  \n",
       "1     01-04-2021 12:09    26.828     81.014  \n",
       "2     01-04-2021 12:51    26.840     81.009  \n",
       "3     01-04-2021 13:10    26.828     81.002  \n",
       "4     01-04-2021 13:18    26.834     81.033  \n",
       "...                ...       ...        ...  \n",
       "5123  30-06-2021 17:59    26.866     81.026  \n",
       "5124  30-06-2021 18:01    26.864     81.006  \n",
       "5125  30-06-2021 18:10    26.864     80.998  \n",
       "5126  30-06-2021 18:33    26.873     81.023  \n",
       "5127  30-06-2021 23:59    26.863     81.001  \n",
       "\n",
       "[5128 rows x 10 columns]"
      ]
     },
     "execution_count": 90,
     "metadata": {},
     "output_type": "execute_result"
    }
   ],
   "source": [
    "df"
   ]
  },
  {
   "cell_type": "code",
   "execution_count": 91,
   "id": "corrected-joyce",
   "metadata": {},
   "outputs": [
    {
     "data": {
      "text/plain": [
       "{'PS1', 'PS2', 'PS3', 'PS4'}"
      ]
     },
     "execution_count": 91,
     "metadata": {},
     "output_type": "execute_result"
    }
   ],
   "source": [
    "polic_station = set(df['Police Station'])\n",
    "polic_station"
   ]
  },
  {
   "cell_type": "code",
   "execution_count": 92,
   "id": "accurate-webster",
   "metadata": {},
   "outputs": [
    {
     "data": {
      "text/plain": [
       "{'Accident',\n",
       " 'Accident Explosive',\n",
       " 'Animals Related',\n",
       " 'Animals Smugling',\n",
       " 'Assault/Riot/Commotion',\n",
       " 'Attempted Murder',\n",
       " 'Child Crime',\n",
       " 'Child Crime(Sexual Abuse)',\n",
       " 'Corona',\n",
       " 'Crime On Phone Mobile Social Media Internet',\n",
       " 'Cyber Crimes',\n",
       " 'Dacoity',\n",
       " 'Differently Abled People',\n",
       " 'Dispute',\n",
       " 'Domestic Violence',\n",
       " 'Dowry Related Crime',\n",
       " 'Election Offences-Violation Of Model Code Of Conduct',\n",
       " 'Encroachment',\n",
       " 'Escort For Safety',\n",
       " 'Excise Act Offenses',\n",
       " 'Female Harrassment',\n",
       " 'Female Sexual Harrassment',\n",
       " 'Forgery',\n",
       " 'Found Deadbody',\n",
       " 'Gambling',\n",
       " 'Human Trafficking',\n",
       " 'Illegal Mining',\n",
       " 'Information Against Other Government Departments',\n",
       " 'Information Against Police',\n",
       " 'Kidnap',\n",
       " 'Major Fire',\n",
       " 'Medium Fire',\n",
       " 'Missing',\n",
       " 'Murder',\n",
       " 'Ndps Act Offenses',\n",
       " 'Personally Threat',\n",
       " 'Pick Pocket',\n",
       " 'Police Help Required By 108',\n",
       " 'Police Help Required By 1090',\n",
       " 'Pollution',\n",
       " 'Property Disputes',\n",
       " 'Robbery',\n",
       " 'Small Fire',\n",
       " 'Sos',\n",
       " 'Suicide',\n",
       " 'Suicide Attempt',\n",
       " 'Suspicious Object Information',\n",
       " 'Suspicious Person Information',\n",
       " 'Theft',\n",
       " 'Threat In Person',\n",
       " 'Threat On Phone Email Social Media',\n",
       " 'Traffic Jam',\n",
       " 'Unclaimed Information',\n",
       " 'Unknown',\n",
       " nan}"
      ]
     },
     "execution_count": 92,
     "metadata": {},
     "output_type": "execute_result"
    }
   ],
   "source": [
    "event_type = set(df['Event Type'])\n",
    "event_type"
   ]
  },
  {
   "cell_type": "code",
   "execution_count": 93,
   "id": "brown-houston",
   "metadata": {},
   "outputs": [],
   "source": [
    "event = set(df['Event'])\n",
    "circle = set(df['Circle'])\n",
    "caller_source = set(df['Caller Source'])\n",
    "event_subType = set(df['Event Sub-Type'])"
   ]
  },
  {
   "cell_type": "code",
   "execution_count": 94,
   "id": "intensive-madonna",
   "metadata": {},
   "outputs": [
    {
     "data": {
      "text/plain": [
       "5128"
      ]
     },
     "execution_count": 94,
     "metadata": {},
     "output_type": "execute_result"
    }
   ],
   "source": [
    "len(event)"
   ]
  },
  {
   "cell_type": "code",
   "execution_count": 95,
   "id": "loose-sender",
   "metadata": {},
   "outputs": [
    {
     "data": {
      "text/plain": [
       "{'1090',\n",
       " 'CITZNAPP',\n",
       " 'EMRI108',\n",
       " 'NERS112',\n",
       " 'PHONE',\n",
       " 'SMS',\n",
       " 'TWITTER',\n",
       " 'WhatsApp'}"
      ]
     },
     "execution_count": 95,
     "metadata": {},
     "output_type": "execute_result"
    }
   ],
   "source": [
    "caller_source"
   ]
  },
  {
   "cell_type": "code",
   "execution_count": 96,
   "id": "macro-communication",
   "metadata": {},
   "outputs": [],
   "source": [
    "crime_rates = []\n",
    "for i in range(len(polic_station)):\n",
    "    crime_rates.append(0)"
   ]
  },
  {
   "cell_type": "code",
   "execution_count": 97,
   "id": "cooperative-ballot",
   "metadata": {},
   "outputs": [
    {
     "data": {
      "text/plain": [
       "[0, 0, 0, 0]"
      ]
     },
     "execution_count": 97,
     "metadata": {},
     "output_type": "execute_result"
    }
   ],
   "source": [
    "crime_rates"
   ]
  },
  {
   "cell_type": "code",
   "execution_count": 98,
   "id": "specific-massachusetts",
   "metadata": {},
   "outputs": [],
   "source": [
    "df.set_index('Police Station', inplace = True)\n"
   ]
  },
  {
   "cell_type": "code",
   "execution_count": 99,
   "id": "thrown-departure",
   "metadata": {},
   "outputs": [],
   "source": [
    "not_crime = ['Accident', 'Accident Explosive', 'Corona', 'Differently Abled People', 'Major Fire', 'Medium Fire',\n",
    "            'Pollution', 'Small Fire', 'Traffic Jam', 'Unclaimed Information', 'Unknown']\n",
    "data_event = pd.read_csv('Crime_prone_dataset.csv', index_col = 'Event Type')\n",
    "for i in not_crime:\n",
    "    data_event.drop(i, inplace = True)"
   ]
  },
  {
   "cell_type": "code",
   "execution_count": 100,
   "id": "egyptian-solomon",
   "metadata": {},
   "outputs": [
    {
     "data": {
      "text/html": [
       "<div>\n",
       "<style scoped>\n",
       "    .dataframe tbody tr th:only-of-type {\n",
       "        vertical-align: middle;\n",
       "    }\n",
       "\n",
       "    .dataframe tbody tr th {\n",
       "        vertical-align: top;\n",
       "    }\n",
       "\n",
       "    .dataframe thead th {\n",
       "        text-align: right;\n",
       "    }\n",
       "</style>\n",
       "<table border=\"1\" class=\"dataframe\">\n",
       "  <thead>\n",
       "    <tr style=\"text-align: right;\">\n",
       "      <th></th>\n",
       "      <th>District</th>\n",
       "      <th>Event</th>\n",
       "      <th>Circle</th>\n",
       "      <th>Police Station</th>\n",
       "      <th>Caller Source</th>\n",
       "      <th>Event Sub-Type</th>\n",
       "      <th>Create Date/Time</th>\n",
       "      <th>Latitude</th>\n",
       "      <th>Longitude</th>\n",
       "    </tr>\n",
       "    <tr>\n",
       "      <th>Event Type</th>\n",
       "      <th></th>\n",
       "      <th></th>\n",
       "      <th></th>\n",
       "      <th></th>\n",
       "      <th></th>\n",
       "      <th></th>\n",
       "      <th></th>\n",
       "      <th></th>\n",
       "      <th></th>\n",
       "    </tr>\n",
       "  </thead>\n",
       "  <tbody>\n",
       "    <tr>\n",
       "      <th>Information Against Police</th>\n",
       "      <td>LUCKNOW</td>\n",
       "      <td>P01042100004</td>\n",
       "      <td>C1</td>\n",
       "      <td>PS1</td>\n",
       "      <td>PHONE</td>\n",
       "      <td>Misbehavior By Prv</td>\n",
       "      <td>01-04-2021 00:00</td>\n",
       "      <td>26.834</td>\n",
       "      <td>81.008</td>\n",
       "    </tr>\n",
       "    <tr>\n",
       "      <th>Threat In Person</th>\n",
       "      <td>LUCKNOW</td>\n",
       "      <td>P01042104316</td>\n",
       "      <td>C1</td>\n",
       "      <td>PS1</td>\n",
       "      <td>PHONE</td>\n",
       "      <td>Attack</td>\n",
       "      <td>01-04-2021 12:09</td>\n",
       "      <td>26.828</td>\n",
       "      <td>81.014</td>\n",
       "    </tr>\n",
       "    <tr>\n",
       "      <th>Dispute</th>\n",
       "      <td>LUCKNOW</td>\n",
       "      <td>P01042104847</td>\n",
       "      <td>C1</td>\n",
       "      <td>PS1</td>\n",
       "      <td>PHONE</td>\n",
       "      <td>Dispute In Hospital</td>\n",
       "      <td>01-04-2021 12:51</td>\n",
       "      <td>26.840</td>\n",
       "      <td>81.009</td>\n",
       "    </tr>\n",
       "    <tr>\n",
       "      <th>Gambling</th>\n",
       "      <td>LUCKNOW</td>\n",
       "      <td>P01042105074</td>\n",
       "      <td>C1</td>\n",
       "      <td>PS1</td>\n",
       "      <td>PHONE</td>\n",
       "      <td>Play Cards</td>\n",
       "      <td>01-04-2021 13:10</td>\n",
       "      <td>26.828</td>\n",
       "      <td>81.002</td>\n",
       "    </tr>\n",
       "    <tr>\n",
       "      <th>Threat In Person</th>\n",
       "      <td>LUCKNOW</td>\n",
       "      <td>P01042105152</td>\n",
       "      <td>C1</td>\n",
       "      <td>PS1</td>\n",
       "      <td>PHONE</td>\n",
       "      <td>Attack</td>\n",
       "      <td>01-04-2021 13:18</td>\n",
       "      <td>26.834</td>\n",
       "      <td>81.033</td>\n",
       "    </tr>\n",
       "  </tbody>\n",
       "</table>\n",
       "</div>"
      ],
      "text/plain": [
       "                           District         Event Circle Police Station  \\\n",
       "Event Type                                                                \n",
       "Information Against Police  LUCKNOW  P01042100004     C1            PS1   \n",
       "Threat In Person            LUCKNOW  P01042104316     C1            PS1   \n",
       "Dispute                     LUCKNOW  P01042104847     C1            PS1   \n",
       "Gambling                    LUCKNOW  P01042105074     C1            PS1   \n",
       "Threat In Person            LUCKNOW  P01042105152     C1            PS1   \n",
       "\n",
       "                           Caller Source       Event Sub-Type  \\\n",
       "Event Type                                                      \n",
       "Information Against Police         PHONE   Misbehavior By Prv   \n",
       "Threat In Person                   PHONE               Attack   \n",
       "Dispute                            PHONE  Dispute In Hospital   \n",
       "Gambling                           PHONE           Play Cards   \n",
       "Threat In Person                   PHONE               Attack   \n",
       "\n",
       "                            Create Date/Time  Latitude  Longitude  \n",
       "Event Type                                                         \n",
       "Information Against Police  01-04-2021 00:00    26.834     81.008  \n",
       "Threat In Person            01-04-2021 12:09    26.828     81.014  \n",
       "Dispute                     01-04-2021 12:51    26.840     81.009  \n",
       "Gambling                    01-04-2021 13:10    26.828     81.002  \n",
       "Threat In Person            01-04-2021 13:18    26.834     81.033  "
      ]
     },
     "execution_count": 100,
     "metadata": {},
     "output_type": "execute_result"
    }
   ],
   "source": [
    "data_event.head()"
   ]
  },
  {
   "cell_type": "code",
   "execution_count": 103,
   "id": "stopped-founder",
   "metadata": {},
   "outputs": [
    {
     "data": {
      "text/html": [
       "<div>\n",
       "<style scoped>\n",
       "    .dataframe tbody tr th:only-of-type {\n",
       "        vertical-align: middle;\n",
       "    }\n",
       "\n",
       "    .dataframe tbody tr th {\n",
       "        vertical-align: top;\n",
       "    }\n",
       "\n",
       "    .dataframe thead th {\n",
       "        text-align: right;\n",
       "    }\n",
       "</style>\n",
       "<table border=\"1\" class=\"dataframe\">\n",
       "  <thead>\n",
       "    <tr style=\"text-align: right;\">\n",
       "      <th></th>\n",
       "      <th>District</th>\n",
       "      <th>Event</th>\n",
       "      <th>Circle</th>\n",
       "      <th>Caller Source</th>\n",
       "      <th>Event Sub-Type</th>\n",
       "      <th>Create Date/Time</th>\n",
       "      <th>Latitude</th>\n",
       "      <th>Longitude</th>\n",
       "    </tr>\n",
       "    <tr>\n",
       "      <th>Police Station</th>\n",
       "      <th></th>\n",
       "      <th></th>\n",
       "      <th></th>\n",
       "      <th></th>\n",
       "      <th></th>\n",
       "      <th></th>\n",
       "      <th></th>\n",
       "      <th></th>\n",
       "    </tr>\n",
       "  </thead>\n",
       "  <tbody>\n",
       "    <tr>\n",
       "      <th>PS1</th>\n",
       "      <td>LUCKNOW</td>\n",
       "      <td>P01042100004</td>\n",
       "      <td>C1</td>\n",
       "      <td>PHONE</td>\n",
       "      <td>Misbehavior By Prv</td>\n",
       "      <td>01-04-2021 00:00</td>\n",
       "      <td>26.834</td>\n",
       "      <td>81.008</td>\n",
       "    </tr>\n",
       "    <tr>\n",
       "      <th>PS1</th>\n",
       "      <td>LUCKNOW</td>\n",
       "      <td>P01042104316</td>\n",
       "      <td>C1</td>\n",
       "      <td>PHONE</td>\n",
       "      <td>Attack</td>\n",
       "      <td>01-04-2021 12:09</td>\n",
       "      <td>26.828</td>\n",
       "      <td>81.014</td>\n",
       "    </tr>\n",
       "    <tr>\n",
       "      <th>PS1</th>\n",
       "      <td>LUCKNOW</td>\n",
       "      <td>P01042104847</td>\n",
       "      <td>C1</td>\n",
       "      <td>PHONE</td>\n",
       "      <td>Dispute In Hospital</td>\n",
       "      <td>01-04-2021 12:51</td>\n",
       "      <td>26.840</td>\n",
       "      <td>81.009</td>\n",
       "    </tr>\n",
       "    <tr>\n",
       "      <th>PS1</th>\n",
       "      <td>LUCKNOW</td>\n",
       "      <td>P01042105074</td>\n",
       "      <td>C1</td>\n",
       "      <td>PHONE</td>\n",
       "      <td>Play Cards</td>\n",
       "      <td>01-04-2021 13:10</td>\n",
       "      <td>26.828</td>\n",
       "      <td>81.002</td>\n",
       "    </tr>\n",
       "    <tr>\n",
       "      <th>PS1</th>\n",
       "      <td>LUCKNOW</td>\n",
       "      <td>P01042105152</td>\n",
       "      <td>C1</td>\n",
       "      <td>PHONE</td>\n",
       "      <td>Attack</td>\n",
       "      <td>01-04-2021 13:18</td>\n",
       "      <td>26.834</td>\n",
       "      <td>81.033</td>\n",
       "    </tr>\n",
       "    <tr>\n",
       "      <th>...</th>\n",
       "      <td>...</td>\n",
       "      <td>...</td>\n",
       "      <td>...</td>\n",
       "      <td>...</td>\n",
       "      <td>...</td>\n",
       "      <td>...</td>\n",
       "      <td>...</td>\n",
       "      <td>...</td>\n",
       "    </tr>\n",
       "    <tr>\n",
       "      <th>PS4</th>\n",
       "      <td>LUCKNOW</td>\n",
       "      <td>P30062111143</td>\n",
       "      <td>C2</td>\n",
       "      <td>PHONE</td>\n",
       "      <td>With Neighbor</td>\n",
       "      <td>30-06-2021 17:59</td>\n",
       "      <td>26.866</td>\n",
       "      <td>81.026</td>\n",
       "    </tr>\n",
       "    <tr>\n",
       "      <th>PS4</th>\n",
       "      <td>LUCKNOW</td>\n",
       "      <td>P30062111164</td>\n",
       "      <td>C2</td>\n",
       "      <td>PHONE</td>\n",
       "      <td>Dispute Between Ride And Driver</td>\n",
       "      <td>30-06-2021 18:01</td>\n",
       "      <td>26.864</td>\n",
       "      <td>81.006</td>\n",
       "    </tr>\n",
       "    <tr>\n",
       "      <th>PS4</th>\n",
       "      <td>LUCKNOW</td>\n",
       "      <td>P30062111341</td>\n",
       "      <td>C2</td>\n",
       "      <td>PHONE</td>\n",
       "      <td>Bank Account Hacking</td>\n",
       "      <td>30-06-2021 18:10</td>\n",
       "      <td>26.864</td>\n",
       "      <td>80.998</td>\n",
       "    </tr>\n",
       "    <tr>\n",
       "      <th>PS4</th>\n",
       "      <td>LUCKNOW</td>\n",
       "      <td>P30062111700</td>\n",
       "      <td>C2</td>\n",
       "      <td>PHONE</td>\n",
       "      <td>On Road</td>\n",
       "      <td>30-06-2021 18:33</td>\n",
       "      <td>26.873</td>\n",
       "      <td>81.023</td>\n",
       "    </tr>\n",
       "    <tr>\n",
       "      <th>PS4</th>\n",
       "      <td>LUCKNOW</td>\n",
       "      <td>P30062118243</td>\n",
       "      <td>C2</td>\n",
       "      <td>PHONE</td>\n",
       "      <td>Threatening To Kill</td>\n",
       "      <td>30-06-2021 23:59</td>\n",
       "      <td>26.863</td>\n",
       "      <td>81.001</td>\n",
       "    </tr>\n",
       "  </tbody>\n",
       "</table>\n",
       "<p>4271 rows × 8 columns</p>\n",
       "</div>"
      ],
      "text/plain": [
       "               District         Event Circle Caller Source  \\\n",
       "Police Station                                               \n",
       "PS1             LUCKNOW  P01042100004     C1         PHONE   \n",
       "PS1             LUCKNOW  P01042104316     C1         PHONE   \n",
       "PS1             LUCKNOW  P01042104847     C1         PHONE   \n",
       "PS1             LUCKNOW  P01042105074     C1         PHONE   \n",
       "PS1             LUCKNOW  P01042105152     C1         PHONE   \n",
       "...                 ...           ...    ...           ...   \n",
       "PS4             LUCKNOW  P30062111143     C2         PHONE   \n",
       "PS4             LUCKNOW  P30062111164     C2         PHONE   \n",
       "PS4             LUCKNOW  P30062111341     C2         PHONE   \n",
       "PS4             LUCKNOW  P30062111700     C2         PHONE   \n",
       "PS4             LUCKNOW  P30062118243     C2         PHONE   \n",
       "\n",
       "                                 Event Sub-Type  Create Date/Time  Latitude  \\\n",
       "Police Station                                                                \n",
       "PS1                          Misbehavior By Prv  01-04-2021 00:00    26.834   \n",
       "PS1                                      Attack  01-04-2021 12:09    26.828   \n",
       "PS1                         Dispute In Hospital  01-04-2021 12:51    26.840   \n",
       "PS1                                  Play Cards  01-04-2021 13:10    26.828   \n",
       "PS1                                      Attack  01-04-2021 13:18    26.834   \n",
       "...                                         ...               ...       ...   \n",
       "PS4                               With Neighbor  30-06-2021 17:59    26.866   \n",
       "PS4             Dispute Between Ride And Driver  30-06-2021 18:01    26.864   \n",
       "PS4                        Bank Account Hacking  30-06-2021 18:10    26.864   \n",
       "PS4                                     On Road  30-06-2021 18:33    26.873   \n",
       "PS4                         Threatening To Kill  30-06-2021 23:59    26.863   \n",
       "\n",
       "                Longitude  \n",
       "Police Station             \n",
       "PS1                81.008  \n",
       "PS1                81.014  \n",
       "PS1                81.009  \n",
       "PS1                81.002  \n",
       "PS1                81.033  \n",
       "...                   ...  \n",
       "PS4                81.026  \n",
       "PS4                81.006  \n",
       "PS4                80.998  \n",
       "PS4                81.023  \n",
       "PS4                81.001  \n",
       "\n",
       "[4271 rows x 8 columns]"
      ]
     },
     "execution_count": 103,
     "metadata": {},
     "output_type": "execute_result"
    }
   ],
   "source": [
    "data_police_station = data_event.set_index('Police Station')\n",
    "data_police_station"
   ]
  },
  {
   "cell_type": "code",
   "execution_count": 104,
   "id": "successful-corpus",
   "metadata": {},
   "outputs": [
    {
     "data": {
      "text/plain": [
       "{'PS2': 1001, 'PS3': 2057, 'PS4': 609, 'PS1': 604}"
      ]
     },
     "execution_count": 104,
     "metadata": {},
     "output_type": "execute_result"
    }
   ],
   "source": [
    "crime_rates = {}\n",
    "for i in polic_station:\n",
    "    crime_rates[i] = len(data_police_station.loc[i])\n",
    "crime_rates"
   ]
  },
  {
   "cell_type": "code",
   "execution_count": 105,
   "id": "spare-boutique",
   "metadata": {},
   "outputs": [
    {
     "data": {
      "text/plain": [
       "[1001, 2057, 609, 604]"
      ]
     },
     "execution_count": 105,
     "metadata": {},
     "output_type": "execute_result"
    }
   ],
   "source": [
    "crime_rate_num = list(crime_rates.values())\n",
    "areas = list(crime_rates.keys())\n",
    "crime_rate_num"
   ]
  },
  {
   "cell_type": "code",
   "execution_count": 106,
   "id": "occasional-channels",
   "metadata": {},
   "outputs": [
    {
     "data": {
      "image/png": "[encoded data removed]",
      "text/plain": [
       "<Figure size 432x288 with 1 Axes>"
      ]
     },
     "metadata": {
      "needs_background": "light"
     },
     "output_type": "display_data"
    }
   ],
   "source": [
    "plt.bar(range(len(areas)), crime_rate_num, tick_label=areas)\n",
    "plt.show()"
   ]
  },
  {
   "cell_type": "code",
   "execution_count": 110,
   "id": "exact-magnet",
   "metadata": {},
   "outputs": [],
   "source": [
    "# Load the dataset into a pandas DataFrame\n",
    "df = pd.read_csv('Crime_prone_dataset.csv')"
   ]
  },
  {
   "cell_type": "code",
   "execution_count": 111,
   "id": "injured-model",
   "metadata": {},
   "outputs": [
    {
     "name": "stdout",
     "output_type": "stream",
     "text": [
      "  District         Event Circle Police Station Caller Source  \\\n",
      "0  LUCKNOW  P01042100004     C1            PS1         PHONE   \n",
      "1  LUCKNOW  P01042104316     C1            PS1         PHONE   \n",
      "2  LUCKNOW  P01042104847     C1            PS1         PHONE   \n",
      "3  LUCKNOW  P01042105074     C1            PS1         PHONE   \n",
      "4  LUCKNOW  P01042105152     C1            PS1         PHONE   \n",
      "\n",
      "                   Event Type       Event Sub-Type  Create Date/Time  \\\n",
      "0  Information Against Police   Misbehavior By Prv  01-04-2021 00:00   \n",
      "1            Threat In Person               Attack  01-04-2021 12:09   \n",
      "2                     Dispute  Dispute In Hospital  01-04-2021 12:51   \n",
      "3                    Gambling           Play Cards  01-04-2021 13:10   \n",
      "4            Threat In Person               Attack  01-04-2021 13:18   \n",
      "\n",
      "   Latitude  Longitude  \n",
      "0    26.834     81.008  \n",
      "1    26.828     81.014  \n",
      "2    26.840     81.009  \n",
      "3    26.828     81.002  \n",
      "4    26.834     81.033  \n",
      "          Latitude    Longitude\n",
      "count  5128.000000  5128.000000\n",
      "mean     26.864207    81.023358\n",
      "std       0.055276     0.090061\n",
      "min      25.423000    77.458000\n",
      "25%      26.850000    81.005000\n",
      "50%      26.864000    81.021000\n",
      "75%      26.877000    81.041000\n",
      "max      29.290000    83.725000\n"
     ]
    }
   ],
   "source": [
    "# Perform exploratory data analysis\n",
    "print(df.head())\n",
    "print(df.describe())\n"
   ]
  },
  {
   "cell_type": "code",
   "execution_count": 112,
   "id": "adolescent-protection",
   "metadata": {},
   "outputs": [],
   "source": [
    "# Preprocess the data\n",
    "# Drop irrelevant columns\n",
    "df = df.drop(['District','Event', 'Circle', 'Caller Source',], axis=1)"
   ]
  },
  {
   "cell_type": "code",
   "execution_count": 113,
   "id": "informational-utilization",
   "metadata": {},
   "outputs": [
    {
     "name": "stdout",
     "output_type": "stream",
     "text": [
      "0       0\n",
      "1       0\n",
      "2       0\n",
      "3       0\n",
      "4       0\n",
      "       ..\n",
      "5123    3\n",
      "5124    3\n",
      "5125    3\n",
      "5126    3\n",
      "5127    3\n",
      "Name: Police Station, Length: 5128, dtype: int32\n"
     ]
    }
   ],
   "source": [
    "# Replace missing values with the mean value of the column\n",
    "df = df.fillna(df.mean())\n",
    "\n",
    "label_encoder = LabelEncoder()\n",
    "df['Police Station'] = label_encoder.fit_transform(df['Police Station'])\n",
    "print(df['Police Station'])"
   ]
  },
  {
   "cell_type": "code",
   "execution_count": 114,
   "id": "coated-newark",
   "metadata": {},
   "outputs": [
    {
     "data": {
      "text/html": [
       "<div>\n",
       "<style scoped>\n",
       "    .dataframe tbody tr th:only-of-type {\n",
       "        vertical-align: middle;\n",
       "    }\n",
       "\n",
       "    .dataframe tbody tr th {\n",
       "        vertical-align: top;\n",
       "    }\n",
       "\n",
       "    .dataframe thead th {\n",
       "        text-align: right;\n",
       "    }\n",
       "</style>\n",
       "<table border=\"1\" class=\"dataframe\">\n",
       "  <thead>\n",
       "    <tr style=\"text-align: right;\">\n",
       "      <th></th>\n",
       "      <th>Event Type</th>\n",
       "      <th>Event Sub-Type</th>\n",
       "      <th>Create Date/Time</th>\n",
       "      <th>Latitude</th>\n",
       "      <th>Longitude</th>\n",
       "    </tr>\n",
       "  </thead>\n",
       "  <tbody>\n",
       "    <tr>\n",
       "      <th>0</th>\n",
       "      <td>Information Against Police</td>\n",
       "      <td>Misbehavior By Prv</td>\n",
       "      <td>01-04-2021 00:00</td>\n",
       "      <td>-0.546530</td>\n",
       "      <td>-0.170541</td>\n",
       "    </tr>\n",
       "    <tr>\n",
       "      <th>1</th>\n",
       "      <td>Threat In Person</td>\n",
       "      <td>Attack</td>\n",
       "      <td>01-04-2021 12:09</td>\n",
       "      <td>-0.655086</td>\n",
       "      <td>-0.103913</td>\n",
       "    </tr>\n",
       "    <tr>\n",
       "      <th>2</th>\n",
       "      <td>Dispute</td>\n",
       "      <td>Dispute In Hospital</td>\n",
       "      <td>01-04-2021 12:51</td>\n",
       "      <td>-0.437974</td>\n",
       "      <td>-0.159436</td>\n",
       "    </tr>\n",
       "    <tr>\n",
       "      <th>3</th>\n",
       "      <td>Gambling</td>\n",
       "      <td>Play Cards</td>\n",
       "      <td>01-04-2021 13:10</td>\n",
       "      <td>-0.655086</td>\n",
       "      <td>-0.237169</td>\n",
       "    </tr>\n",
       "    <tr>\n",
       "      <th>4</th>\n",
       "      <td>Threat In Person</td>\n",
       "      <td>Attack</td>\n",
       "      <td>01-04-2021 13:18</td>\n",
       "      <td>-0.546530</td>\n",
       "      <td>0.107075</td>\n",
       "    </tr>\n",
       "    <tr>\n",
       "      <th>...</th>\n",
       "      <td>...</td>\n",
       "      <td>...</td>\n",
       "      <td>...</td>\n",
       "      <td>...</td>\n",
       "      <td>...</td>\n",
       "    </tr>\n",
       "    <tr>\n",
       "      <th>5123</th>\n",
       "      <td>Dispute</td>\n",
       "      <td>With Neighbor</td>\n",
       "      <td>30-06-2021 17:59</td>\n",
       "      <td>0.032435</td>\n",
       "      <td>0.029342</td>\n",
       "    </tr>\n",
       "    <tr>\n",
       "      <th>5124</th>\n",
       "      <td>Dispute</td>\n",
       "      <td>Dispute Between Ride And Driver</td>\n",
       "      <td>30-06-2021 18:01</td>\n",
       "      <td>-0.003750</td>\n",
       "      <td>-0.192750</td>\n",
       "    </tr>\n",
       "    <tr>\n",
       "      <th>5125</th>\n",
       "      <td>Cyber Crimes</td>\n",
       "      <td>Bank Account Hacking</td>\n",
       "      <td>30-06-2021 18:10</td>\n",
       "      <td>-0.003750</td>\n",
       "      <td>-0.281587</td>\n",
       "    </tr>\n",
       "    <tr>\n",
       "      <th>5126</th>\n",
       "      <td>Robbery</td>\n",
       "      <td>On Road</td>\n",
       "      <td>30-06-2021 18:33</td>\n",
       "      <td>0.159083</td>\n",
       "      <td>-0.003972</td>\n",
       "    </tr>\n",
       "    <tr>\n",
       "      <th>5127</th>\n",
       "      <td>Threat In Person</td>\n",
       "      <td>Threatening To Kill</td>\n",
       "      <td>30-06-2021 23:59</td>\n",
       "      <td>-0.021843</td>\n",
       "      <td>-0.248273</td>\n",
       "    </tr>\n",
       "  </tbody>\n",
       "</table>\n",
       "<p>5128 rows × 5 columns</p>\n",
       "</div>"
      ],
      "text/plain": [
       "                      Event Type                   Event Sub-Type  \\\n",
       "0     Information Against Police               Misbehavior By Prv   \n",
       "1               Threat In Person                           Attack   \n",
       "2                        Dispute              Dispute In Hospital   \n",
       "3                       Gambling                       Play Cards   \n",
       "4               Threat In Person                           Attack   \n",
       "...                          ...                              ...   \n",
       "5123                     Dispute                    With Neighbor   \n",
       "5124                     Dispute  Dispute Between Ride And Driver   \n",
       "5125                Cyber Crimes             Bank Account Hacking   \n",
       "5126                     Robbery                          On Road   \n",
       "5127            Threat In Person              Threatening To Kill   \n",
       "\n",
       "      Create Date/Time  Latitude  Longitude  \n",
       "0     01-04-2021 00:00 -0.546530  -0.170541  \n",
       "1     01-04-2021 12:09 -0.655086  -0.103913  \n",
       "2     01-04-2021 12:51 -0.437974  -0.159436  \n",
       "3     01-04-2021 13:10 -0.655086  -0.237169  \n",
       "4     01-04-2021 13:18 -0.546530   0.107075  \n",
       "...                ...       ...        ...  \n",
       "5123  30-06-2021 17:59  0.032435   0.029342  \n",
       "5124  30-06-2021 18:01 -0.003750  -0.192750  \n",
       "5125  30-06-2021 18:10 -0.003750  -0.281587  \n",
       "5126  30-06-2021 18:33  0.159083  -0.003972  \n",
       "5127  30-06-2021 23:59 -0.021843  -0.248273  \n",
       "\n",
       "[5128 rows x 5 columns]"
      ]
     },
     "execution_count": 114,
     "metadata": {},
     "output_type": "execute_result"
    }
   ],
   "source": [
    "# Normalize the data using StandardScaler\n",
    "\n",
    "scaler = StandardScaler()\n",
    "\n",
    "X = df.drop(['Police Station'], axis=1)\n",
    "\n",
    "# Select only the columns with numeric data types\n",
    "numeric_cols = X.select_dtypes(include=[np.number]).columns\n",
    "\n",
    "# Fit and transform the selected columns\n",
    "X[numeric_cols] = scaler.fit_transform(X[numeric_cols])\n",
    "\n",
    "# Assign the scaled values back to the original dataframe\n",
    "df[X.columns] = X\n",
    "X"
   ]
  },
  {
   "cell_type": "code",
   "execution_count": 115,
   "id": "complimentary-sierra",
   "metadata": {},
   "outputs": [],
   "source": [
    "from sklearn.preprocessing import OneHotEncoder\n",
    "\n",
    "# Create a OneHotEncoder object\n",
    "encoder = OneHotEncoder(handle_unknown='ignore')\n",
    "\n",
    "# Fit the encoder to the data and transform the data\n",
    "X_encoded = encoder.fit_transform(X)"
   ]
  },
  {
   "cell_type": "code",
   "execution_count": 116,
   "id": "perceived-ballet",
   "metadata": {},
   "outputs": [],
   "source": [
    "# Split the data into training and testing sets\n",
    "X_train, X_test, y_train, y_test = train_test_split(X_encoded, df['Police Station'], test_size=0.2, random_state=42)\n"
   ]
  },
  {
   "cell_type": "code",
   "execution_count": 117,
   "id": "lucky-standing",
   "metadata": {},
   "outputs": [
    {
     "name": "stdout",
     "output_type": "stream",
     "text": [
      "Decision Tree Classifier Results:\n",
      "Accuracy: 0.9122807017543859\n",
      "Confusion Matrix:\n",
      "[[145  13   0   0]\n",
      " [  7 225  12   4]\n",
      " [  2  20 440  13]\n",
      " [  0   4  15 126]]\n",
      "Classification Report:\n",
      "              precision    recall  f1-score   support\n",
      "\n",
      "           0       0.94      0.92      0.93       158\n",
      "           1       0.86      0.91      0.88       248\n",
      "           2       0.94      0.93      0.93       475\n",
      "           3       0.88      0.87      0.87       145\n",
      "\n",
      "    accuracy                           0.91      1026\n",
      "   macro avg       0.91      0.91      0.91      1026\n",
      "weighted avg       0.91      0.91      0.91      1026\n",
      "\n"
     ]
    }
   ],
   "source": [
    "# Train and evaluate a Decision Tree classifier\n",
    "dt_classifier = DecisionTreeClassifier(random_state=42)\n",
    "dt_classifier.fit(X_train, y_train)\n",
    "y_pred = dt_classifier.predict(X_test)\n",
    "print('Decision Tree Classifier Results:')\n",
    "print('Accuracy:', accuracy_score(y_test, y_pred))\n",
    "print('Confusion Matrix:')\n",
    "print(confusion_matrix(y_test, y_pred))\n",
    "print('Classification Report:')\n",
    "print(classification_report(y_test, y_pred))"
   ]
  },
  {
   "cell_type": "code",
   "execution_count": 118,
   "id": "technological-sleeve",
   "metadata": {},
   "outputs": [
    {
     "name": "stdout",
     "output_type": "stream",
     "text": [
      "[2 2 2 ... 1 2 0]\n",
      "Random Forest Classifier Results:\n",
      "Accuracy: 0.9103313840155945\n",
      "Confusion Matrix:\n",
      "[[128  10  19   1]\n",
      " [  4 234  10   0]\n",
      " [  1  12 454   8]\n",
      " [  0  11  16 118]]\n",
      "Classification Report:\n",
      "              precision    recall  f1-score   support\n",
      "\n",
      "           0       0.96      0.81      0.88       158\n",
      "           1       0.88      0.94      0.91       248\n",
      "           2       0.91      0.96      0.93       475\n",
      "           3       0.93      0.81      0.87       145\n",
      "\n",
      "    accuracy                           0.91      1026\n",
      "   macro avg       0.92      0.88      0.90      1026\n",
      "weighted avg       0.91      0.91      0.91      1026\n",
      "\n"
     ]
    }
   ],
   "source": [
    "# Train and evaluate a Random Forest classifier\n",
    "rf_classifier = RandomForestClassifier(random_state=42)\n",
    "rf_classifier.fit(X_train, y_train)\n",
    "y_pred = rf_classifier.predict(X_test)\n",
    "print(y_pred)\n",
    "print('Random Forest Classifier Results:')\n",
    "print('Accuracy:', accuracy_score(y_test, y_pred))\n",
    "print('Confusion Matrix:')\n",
    "print(confusion_matrix(y_test, y_pred))\n",
    "print('Classification Report:')\n",
    "print(classification_report(y_test, y_pred))"
   ]
  },
  {
   "cell_type": "code",
   "execution_count": 119,
   "id": "neither-issue",
   "metadata": {},
   "outputs": [
    {
     "name": "stdout",
     "output_type": "stream",
     "text": [
      "Support Vector Machine Classifier Results:\n",
      "Accuracy: 0.9317738791423001\n",
      "Confusion Matrix:\n",
      "[[127   6  25   0]\n",
      " [  5 236   6   1]\n",
      " [  2   3 463   7]\n",
      " [  0   5  10 130]]\n",
      "Classification Report:\n",
      "              precision    recall  f1-score   support\n",
      "\n",
      "           0       0.95      0.80      0.87       158\n",
      "           1       0.94      0.95      0.95       248\n",
      "           2       0.92      0.97      0.95       475\n",
      "           3       0.94      0.90      0.92       145\n",
      "\n",
      "    accuracy                           0.93      1026\n",
      "   macro avg       0.94      0.91      0.92      1026\n",
      "weighted avg       0.93      0.93      0.93      1026\n",
      "\n"
     ]
    }
   ],
   "source": [
    "# Train and evaluate a Support Vector Machine classifier\n",
    "svm_classifier = SVC(random_state=42)\n",
    "svm_classifier.fit(X_train, y_train)\n",
    "y_pred = svm_classifier.predict(X_test)\n",
    "print('Support Vector Machine Classifier Results:')\n",
    "print('Accuracy:', accuracy_score(y_test, y_pred))\n",
    "print('Confusion Matrix:')\n",
    "print(confusion_matrix(y_test, y_pred))\n",
    "print('Classification Report:')\n",
    "print(classification_report(y_test, y_pred))"
   ]
  },
  {
   "cell_type": "code",
   "execution_count": 120,
   "id": "expensive-glance",
   "metadata": {
    "scrolled": true
   },
   "outputs": [
    {
     "name": "stdout",
     "output_type": "stream",
     "text": [
      "K-means Clustering Results:\n",
      "Silhouette Score: 0.08164712246479305\n",
      "Cluster Centers: [[0.00706861 0.0004158  0.02577963 ... 0.0004158  0.         0.0004158 ]\n",
      " [0.         0.         0.         ... 0.         0.00064558 0.        ]\n",
      " [0.         0.         0.         ... 0.         0.         0.        ]\n",
      " [0.         0.         0.         ... 0.         0.         0.        ]]\n",
      "[0 3 1 ... 0 0 3]\n"
     ]
    }
   ],
   "source": [
    "# Train and evaluate a K-means clustering\n",
    "kmeans = KMeans(n_clusters=4, random_state=42)\n",
    "kmeans.fit(X_encoded)\n",
    "y_pred = kmeans.predict(X_encoded)\n",
    "print('K-means Clustering Results:')\n",
    "print('Silhouette Score:', silhouette_score(X_encoded, y_pred))\n",
    "print('Cluster Centers:', kmeans.cluster_centers_)\n",
    "print(y_pred)"
   ]
  },
  {
   "cell_type": "code",
   "execution_count": 20,
   "id": "confident-option",
   "metadata": {},
   "outputs": [
    {
     "data": {
      "image/png": "[encoded data removed]",
      "text/plain": [
       "<Figure size 432x288 with 1 Axes>"
      ]
     },
     "metadata": {
      "needs_background": "light"
     },
     "output_type": "display_data"
    }
   ],
   "source": [
    "import plotly.express as px\n",
    "\n",
    "# Assume X_encoded has more than two columns\n",
    "# Create a new DataFrame with the encoded data and the predicted clusters\n",
    "# df = pd.DataFrame(X_encoded.toarray(), columns=encoder.get_feature_names_out())\n",
    "# df['cluster'] = y_pred\n",
    "plt.scatter(X_encoded.toarray()[:, 0], X_encoded.toarray()[:, 1], c=y_pred, cmap='viridis')\n",
    "plt.scatter(kmeans.cluster_centers_[:, 0], kmeans.cluster_centers_[:, 1], c='red', marker='x')\n",
    "# Create a parallel coordinates plot of the data\n",
    "# fig = px.parallel_coordinates(df, color='cluster', color_continuous_scale='viridis')\n",
    "# fig.show()\n",
    "plt.title('K-means Clustering')\n",
    "plt.xlabel('Latitude')\n",
    "plt.ylabel('Longitude')\n",
    "plt.show()"
   ]
  },
  {
   "cell_type": "code",
   "execution_count": 21,
   "id": "vocational-still",
   "metadata": {},
   "outputs": [],
   "source": [
    "import pickle"
   ]
  },
  {
   "cell_type": "code",
   "execution_count": 22,
   "id": "honest-barbados",
   "metadata": {},
   "outputs": [],
   "source": [
    "pickle.dump(rf_classifier, open('model.pkl','wb'))"
   ]
  },
  {
   "cell_type": "code",
   "execution_count": 23,
   "id": "demanding-lithuania",
   "metadata": {},
   "outputs": [],
   "source": [
    "model=pickle.load(open('model.pkl','rb'))"
   ]
  },
  {
   "cell_type": "code",
   "execution_count": 24,
   "id": "russian-fiber",
   "metadata": {},
   "outputs": [
    {
     "name": "stdout",
     "output_type": "stream",
     "text": [
      "[2 2 2 ... 1 2 0]\n"
     ]
    }
   ],
   "source": [
    "print(model.predict(X_test))"
   ]
  },
  {
   "cell_type": "code",
   "execution_count": 125,
   "id": "historical-match",
   "metadata": {},
   "outputs": [
    {
     "data": {
      "image/png": "[encoded data removed]",
      "text/plain": [
       "<Figure size 432x288 with 1 Axes>"
      ]
     },
     "metadata": {
      "needs_background": "light"
     },
     "output_type": "display_data"
    },
    {
     "name": "stdout",
     "output_type": "stream",
     "text": [
      "Accuracy: 0.999609984399376\n",
      "Precision: 0.9996094512790471\n",
      "Recall: 1.0\n",
      "F1-Score: 0.9998046875000001\n",
      "Predictions: [1 1]\n"
     ]
    }
   ],
   "source": [
    "# Import the necessary libraries\n",
    "import pandas as pd\n",
    "import numpy as np\n",
    "from sklearn.cluster import KMeans\n",
    "from sklearn.linear_model import LogisticRegression\n",
    "from sklearn.metrics import accuracy_score, precision_score, recall_score, f1_score\n",
    "\n",
    "# Load the dataset\n",
    "data = pd.read_csv('Book1.csv')\n",
    "\n",
    "# Extract the latitude and longitude values\n",
    "X = data.iloc[:, 1:3].values\n",
    "\n",
    "# Determine the number of clusters using the elbow method\n",
    "wcss = []\n",
    "for i in range(1, 11):\n",
    "    kmeans = KMeans(n_clusters=i, init='k-means++', random_state=42)\n",
    "    kmeans.fit(X)\n",
    "    wcss.append(kmeans.inertia_)\n",
    "    \n",
    "# Plot the elbow curve\n",
    "import matplotlib.pyplot as plt\n",
    "plt.plot(range(1, 11), wcss)\n",
    "plt.title('Elbow Method')\n",
    "plt.xlabel('Number of Clusters')\n",
    "plt.ylabel('WCSS')\n",
    "plt.show()\n",
    "\n",
    "# Train the k-means clustering model with the optimal number of clusters\n",
    "kmeans = KMeans(n_clusters=4, init='k-means++', random_state=42)\n",
    "y_kmeans = kmeans.fit_predict(X)\n",
    "\n",
    "# Add the cluster labels to the dataset\n",
    "data['Cluster'] = y_kmeans\n",
    "\n",
    "# Create a binary classification label based on the cluster labels\n",
    "data['Crime_Prone'] = np.where(data['Cluster'] == 0, 1, 0)\n",
    "\n",
    "# Extract the features and labels for training\n",
    "X_train = data.iloc[:, [1, 2]].values\n",
    "y_train = data.iloc[:, 3].values\n",
    "\n",
    "# Train a logistic regression model\n",
    "classifier = LogisticRegression(random_state=42)\n",
    "classifier.fit(X_train, y_train)\n",
    "\n",
    "# Make predictions on new data\n",
    "X_new = np.array([[42.3601, -71.0589], [40.7128, -74.0060]])\n",
    "y_pred = classifier.predict(X_new)\n",
    "\n",
    "# Evaluate the performance of the model\n",
    "acc = accuracy_score(y_train, classifier.predict(X_train))\n",
    "prec = precision_score(y_train, classifier.predict(X_train))\n",
    "rec = recall_score(y_train, classifier.predict(X_train))\n",
    "f1 = f1_score(y_train, classifier.predict(X_train))\n",
    "print('Accuracy:', acc)\n",
    "print('Precision:', prec)\n",
    "print('Recall:', rec)\n",
    "print('F1-Score:', f1)\n",
    "print('Predictions:', y_pred)\n"
   ]
  },
  {
   "cell_type": "code",
   "execution_count": 37,
   "id": "western-imaging",
   "metadata": {},
   "outputs": [
    {
     "data": {
      "image/png": "[encoded data removed]",
      "text/plain": [
       "<Figure size 432x288 with 1 Axes>"
      ]
     },
     "metadata": {
      "needs_background": "light"
     },
     "output_type": "display_data"
    },
    {
     "name": "stdout",
     "output_type": "stream",
     "text": [
      "Accuracy: 0.999609984399376\n",
      "Precision: 0.9996094512790471\n",
      "Recall: 1.0\n",
      "F1-Score: 0.9998046875000001\n",
      "Predictions: [[0. 1.]]\n",
      "New area 1: 100.00% probability of being crime prone\n"
     ]
    },
    {
     "data": {
      "image/png": "[encoded data removed]",
      "text/plain": [
       "<Figure size 432x288 with 1 Axes>"
      ]
     },
     "metadata": {
      "needs_background": "light"
     },
     "output_type": "display_data"
    }
   ],
   "source": [
    "# Import the necessary libraries\n",
    "import pandas as pd\n",
    "import numpy as np\n",
    "from sklearn.cluster import KMeans\n",
    "from sklearn.linear_model import LogisticRegression\n",
    "from sklearn.metrics import accuracy_score, precision_score, recall_score, f1_score\n",
    "import matplotlib.pyplot as plt\n",
    "import seaborn as sns\n",
    "\n",
    "# Load the dataset\n",
    "data = pd.read_csv('Book1.csv')\n",
    "\n",
    "# Extract the latitude and longitude values\n",
    "X = data.iloc[:, 1:3].values\n",
    "\n",
    "# Determine the number of clusters using the elbow method\n",
    "wcss = []\n",
    "for i in range(1, 11):\n",
    "    kmeans = KMeans(n_clusters=i, init='k-means++', random_state=42)\n",
    "    kmeans.fit(X)\n",
    "    wcss.append(kmeans.inertia_)\n",
    "    \n",
    "# Plot the elbow curve\n",
    "plt.plot(range(1, 11), wcss)\n",
    "plt.title('Elbow Method')\n",
    "plt.xlabel('Number of Clusters')\n",
    "plt.ylabel('WCSS')\n",
    "plt.show()\n",
    "plt.savefig('elbow.png')\n",
    "\n",
    "# Train the k-means clustering model with the optimal number of clusters\n",
    "kmeans = KMeans(n_clusters=4, init='k-means++', random_state=42)\n",
    "y_kmeans = kmeans.fit_predict(X)\n",
    "\n",
    "# Add the cluster labels to the dataset\n",
    "data['Cluster'] = y_kmeans\n",
    "\n",
    "# Create a binary classification label based on the cluster labels\n",
    "data['Crime_Prone'] = np.where(data['Cluster'] == 0, 1, 0)\n",
    "\n",
    "# Plot the clusters\n",
    "sns.scatterplot(data=data, x=\"Latitude\", y=\"Longitude\", hue=\"Cluster\")\n",
    "plt.title('Cluster Plot')\n",
    "plt.xlabel('Latitude')\n",
    "plt.ylabel('Longitude')\n",
    "plt.savefig('cluster.png')\n",
    "\n",
    "# Extract the features and labels for training\n",
    "X_train = data.iloc[:, [1, 2]].values\n",
    "y_train = data.iloc[:, 3].values\n",
    "\n",
    "# Train a logistic regression model\n",
    "classifier = LogisticRegression(random_state=42)\n",
    "classifier.fit(X_train, y_train)\n",
    "\n",
    "# Make predictions on new data\n",
    "X_new = np.array([[26.3601, -71.0589]])\n",
    "y_pred = classifier.predict_proba(X_new)\n",
    "\n",
    "# Evaluate the performance of the model\n",
    "acc = accuracy_score(y_train, classifier.predict(X_train))\n",
    "prec = precision_score(y_train, classifier.predict(X_train))\n",
    "rec = recall_score(y_train, classifier.predict(X_train))\n",
    "f1 = f1_score(y_train, classifier.predict(X_train))\n",
    "print('Accuracy:', acc)\n",
    "print('Precision:', prec)\n",
    "print('Recall:', rec)\n",
    "print('F1-Score:', f1)\n",
    "print('Predictions:', y_pred)\n",
    "for i, prob in enumerate(y_pred):\n",
    "    print(f'New area {i+1}: {prob[1]*100:.2f}% probability of being crime prone')\n",
    "\n",
    "# Plot the decision boundary\n",
    "sns.scatterplot(data=data, x=\"Latitude\", y=\"Longitude\", hue=\"Crime_Prone\")\n",
    "ax = plt.gca()\n",
    "xlim = ax.get_xlim()\n",
    "ylim = ax.get_ylim()\n",
    "\n",
    "# Create grid to evaluate model\n",
    "xx = np.linspace(xlim[0], xlim[1], 30)\n",
    "yy = np.linspace(ylim[0], ylim[1], 30)\n",
    "YY, XX = np.meshgrid(yy, xx)\n",
    "xy = np.vstack([XX.ravel(), YY.ravel()]).T\n",
    "Z = classifier.predict(xy).reshape(XX.shape)\n",
    "\n",
    "# Plot decision boundary\n",
    "ax.contourf(XX, YY, Z, alpha=0.2)\n",
    "\n",
    "plt.title('Decision Boundary')\n",
    "plt.xlabel('Latitude')\n",
    "plt.ylabel('Longitude')\n",
    "plt.savefig('boundary.png')\n"
   ]
  },
  {
   "cell_type": "code",
   "execution_count": 17,
   "id": "taken-password",
   "metadata": {},
   "outputs": [],
   "source": [
    "import pickle\n",
    "pickle.dump(classifier, open('model.pkl','w b'))"
   ]
  },
  {
   "cell_type": "code",
   "execution_count": 18,
   "id": "billion-shopping",
   "metadata": {},
   "outputs": [],
   "source": [
    "model=pickle.load(open('model.pkl','rb'))"
   ]
  },
  {
   "cell_type": "code",
   "execution_count": 38,
   "id": "sapphire-format",
   "metadata": {},
   "outputs": [],
   "source": [
    "Y=model.predict_proba([[26.8467, -81.9462]])"
   ]
  },
  {
   "cell_type": "code",
   "execution_count": 39,
   "id": "outstanding-python",
   "metadata": {},
   "outputs": [
    {
     "name": "stdout",
     "output_type": "stream",
     "text": [
      "New area 1: 100.00% probability of being crime prone\n"
     ]
    }
   ],
   "source": [
    "for i, prob in enumerate(Y):\n",
    "    print(f'New area {i+1}: {prob[1]*100:.2f}% probability of being crime prone')"
   ]
  },
  {
   "cell_type": "code",
   "execution_count": 1,
   "id": "innocent-detail",
   "metadata": {},
   "outputs": [
    {
     "data": {
      "text/html": [
       "<div style=\"width:100%;\"><div style=\"position:relative;width:100%;height:0;padding-bottom:60%;\"><span style=\"color:#565656\">Make this Notebook Trusted to load map: File -> Trust Notebook</span><iframe srcdoc=\"&lt;!DOCTYPE html&gt;\n",
       "&lt;html&gt;\n",
       "&lt;head&gt;\n",
       "    \n",
       "    &lt;meta http-equiv=&quot;content-type&quot; content=&quot;text/html; charset=UTF-8&quot; /&gt;\n",
       "    \n",
       "        &lt;script&gt;\n",
       "            L_NO_TOUCH = false;\n",
       "            L_DISABLE_3D = false;\n",
       "        &lt;/script&gt;\n",
       "    \n",
       "    &lt;style&gt;html, body {width: 100%;height: 100%;margin: 0;padding: 0;}&lt;/style&gt;\n",
       "    &lt;style&gt;#map {position:absolute;top:0;bottom:0;right:0;left:0;}&lt;/style&gt;\n",
       "    &lt;script src=&quot;https://cdn.jsdelivr.net/npm/leaflet@1.9.3/dist/leaflet.js&quot;&gt;&lt;/script&gt;\n",
       "    &lt;script src=&quot;https://code.jquery.com/jquery-1.12.4.min.js&quot;&gt;&lt;/script&gt;\n",
       "    &lt;script src=&quot;https://cdn.jsdelivr.net/npm/bootstrap@5.2.2/dist/js/bootstrap.bundle.min.js&quot;&gt;&lt;/script&gt;\n",
       "    &lt;script src=&quot;https://cdnjs.cloudflare.com/ajax/libs/Leaflet.awesome-markers/2.0.2/leaflet.awesome-markers.js&quot;&gt;&lt;/script&gt;\n",
       "    &lt;link rel=&quot;stylesheet&quot; href=&quot;https://cdn.jsdelivr.net/npm/leaflet@1.9.3/dist/leaflet.css&quot;/&gt;\n",
       "    &lt;link rel=&quot;stylesheet&quot; href=&quot;https://cdn.jsdelivr.net/npm/bootstrap@5.2.2/dist/css/bootstrap.min.css&quot;/&gt;\n",
       "    &lt;link rel=&quot;stylesheet&quot; href=&quot;https://netdna.bootstrapcdn.com/bootstrap/3.0.0/css/bootstrap.min.css&quot;/&gt;\n",
       "    &lt;link rel=&quot;stylesheet&quot; href=&quot;https://cdn.jsdelivr.net/npm/@fortawesome/fontawesome-free@6.2.0/css/all.min.css&quot;/&gt;\n",
       "    &lt;link rel=&quot;stylesheet&quot; href=&quot;https://cdnjs.cloudflare.com/ajax/libs/Leaflet.awesome-markers/2.0.2/leaflet.awesome-markers.css&quot;/&gt;\n",
       "    &lt;link rel=&quot;stylesheet&quot; href=&quot;https://cdn.jsdelivr.net/gh/python-visualization/folium/folium/templates/leaflet.awesome.rotate.min.css&quot;/&gt;\n",
       "    \n",
       "            &lt;meta name=&quot;viewport&quot; content=&quot;width=device-width,\n",
       "                initial-scale=1.0, maximum-scale=1.0, user-scalable=no&quot; /&gt;\n",
       "            &lt;style&gt;\n",
       "                #map_43b7d3f9ebfe95be2d97b089e509e62b {\n",
       "                    position: relative;\n",
       "                    width: 100.0%;\n",
       "                    height: 100.0%;\n",
       "                    left: 0.0%;\n",
       "                    top: 0.0%;\n",
       "                }\n",
       "                .leaflet-container { font-size: 1rem; }\n",
       "            &lt;/style&gt;\n",
       "        \n",
       "&lt;/head&gt;\n",
       "&lt;body&gt;\n",
       "    \n",
       "    \n",
       "            &lt;div class=&quot;folium-map&quot; id=&quot;map_43b7d3f9ebfe95be2d97b089e509e62b&quot; &gt;&lt;/div&gt;\n",
       "        \n",
       "&lt;/body&gt;\n",
       "&lt;script&gt;\n",
       "    \n",
       "    \n",
       "            var map_43b7d3f9ebfe95be2d97b089e509e62b = L.map(\n",
       "                &quot;map_43b7d3f9ebfe95be2d97b089e509e62b&quot;,\n",
       "                {\n",
       "                    center: [26.8467, 81.03],\n",
       "                    crs: L.CRS.EPSG3857,\n",
       "                    zoom: 12,\n",
       "                    zoomControl: true,\n",
       "                    preferCanvas: false,\n",
       "                }\n",
       "            );\n",
       "\n",
       "            \n",
       "\n",
       "        \n",
       "    \n",
       "            var tile_layer_a4d9bfb369a39a5ee8f6023d80db9fac = L.tileLayer(\n",
       "                &quot;https://{s}.tile.openstreetmap.org/{z}/{x}/{y}.png&quot;,\n",
       "                {&quot;attribution&quot;: &quot;Data by \\u0026copy; \\u003ca target=\\&quot;_blank\\&quot; href=\\&quot;http://openstreetmap.org\\&quot;\\u003eOpenStreetMap\\u003c/a\\u003e, under \\u003ca target=\\&quot;_blank\\&quot; href=\\&quot;http://www.openstreetmap.org/copyright\\&quot;\\u003eODbL\\u003c/a\\u003e.&quot;, &quot;detectRetina&quot;: false, &quot;maxNativeZoom&quot;: 18, &quot;maxZoom&quot;: 18, &quot;minZoom&quot;: 0, &quot;noWrap&quot;: false, &quot;opacity&quot;: 1, &quot;subdomains&quot;: &quot;abc&quot;, &quot;tms&quot;: false}\n",
       "            ).addTo(map_43b7d3f9ebfe95be2d97b089e509e62b);\n",
       "        \n",
       "    \n",
       "            var marker_1642421e0d554bb397b64087540f6d1c = L.marker(\n",
       "                [26.8467, 81.03],\n",
       "                {}\n",
       "            ).addTo(map_43b7d3f9ebfe95be2d97b089e509e62b);\n",
       "        \n",
       "&lt;/script&gt;\n",
       "&lt;/html&gt;\" style=\"position:absolute;width:100%;height:100%;left:0;top:0;border:none !important;\" allowfullscreen webkitallowfullscreen mozallowfullscreen></iframe></div></div>"
      ],
      "text/plain": [
       "<folium.folium.Map at 0x1d737fc0850>"
      ]
     },
     "execution_count": 1,
     "metadata": {},
     "output_type": "execute_result"
    }
   ],
   "source": [
    "import folium\n",
    "import pandas as pd\n",
    "data = pd.read_csv('Book1.csv')\n",
    "# Create a map centered on a specific location\n",
    "m = folium.Map(location=[26.8467,81.03], zoom_start=12)\n",
    "folium.Marker([26.8467,81.03]).add_to(m)\n",
    "# Add markers for each latitude and longitude value\n",
    "# for index, row in data.iterrows():\n",
    "#     folium.Marker([row['Latitude'], row['Longitude']]).add_to(m)\n",
    "\n",
    "\n",
    "m"
   ]
  },
  {
   "cell_type": "code",
   "execution_count": null,
   "id": "maritime-terry",
   "metadata": {},
   "outputs": [],
   "source": []
  }
 ],
 "metadata": {
  "kernelspec": {
   "display_name": "Python 3",
   "language": "python",
   "name": "python3"
  },
  "language_info": {
   "codemirror_mode": {
    "name": "ipython",
    "version": 3
   },
   "file_extension": ".py",
   "mimetype": "text/x-python",
   "name": "python",
   "nbconvert_exporter": "python",
   "pygments_lexer": "ipython3",
   "version": "3.8.0"
  }
 },
 "nbformat": 4,
 "nbformat_minor": 5
}
