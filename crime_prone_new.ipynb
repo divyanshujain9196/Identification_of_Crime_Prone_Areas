{
 "cells": [
  {
   "cell_type": "code",
   "execution_count": 8,
   "id": "formal-world",
   "metadata": {},
   "outputs": [],
   "source": [
    "import pandas as pd\n",
    "import numpy as np\n",
    "import matplotlib.pyplot as plt\n",
    "from sklearn.model_selection import train_test_split\n",
    "from sklearn.preprocessing import StandardScaler\n",
    "from sklearn.preprocessing import LabelEncoder\n",
    "from sklearn.tree import DecisionTreeClassifier\n",
    "from sklearn.ensemble import RandomForestClassifier\n",
    "from sklearn.svm import SVC\n",
    "from sklearn.cluster import KMeans\n",
    "from sklearn.metrics import accuracy_score, confusion_matrix, classification_report, silhouette_score\n",
    "\n"
   ]
  },
  {
   "cell_type": "code",
   "execution_count": 9,
   "id": "requested-repair",
   "metadata": {},
   "outputs": [],
   "source": [
    "# Load the dataset into a pandas DataFrame\n",
    "df = pd.read_csv('Crime_prone_dataset.csv')"
   ]
  },
  {
   "cell_type": "code",
   "execution_count": 10,
   "id": "injured-model",
   "metadata": {},
   "outputs": [
    {
     "name": "stdout",
     "output_type": "stream",
     "text": [
      "  District         Event Circle Police Station Caller Source  \\\n",
      "0  LUCKNOW  P01042100004     C1            PS1         PHONE   \n",
      "1  LUCKNOW  P01042104316     C1            PS1         PHONE   \n",
      "2  LUCKNOW  P01042104847     C1            PS1         PHONE   \n",
      "3  LUCKNOW  P01042105074     C1            PS1         PHONE   \n",
      "4  LUCKNOW  P01042105152     C1            PS1         PHONE   \n",
      "\n",
      "                   Event Type       Event Sub-Type  Create Date/Time  \\\n",
      "0  Information Against Police   Misbehavior By Prv  01-04-2021 00:00   \n",
      "1            Threat In Person               Attack  01-04-2021 12:09   \n",
      "2                     Dispute  Dispute In Hospital  01-04-2021 12:51   \n",
      "3                    Gambling           Play Cards  01-04-2021 13:10   \n",
      "4            Threat In Person               Attack  01-04-2021 13:18   \n",
      "\n",
      "   Latitude  Longitude  \n",
      "0    26.834     81.008  \n",
      "1    26.828     81.014  \n",
      "2    26.840     81.009  \n",
      "3    26.828     81.002  \n",
      "4    26.834     81.033  \n",
      "          Latitude    Longitude\n",
      "count  5128.000000  5128.000000\n",
      "mean     26.864207    81.023358\n",
      "std       0.055276     0.090061\n",
      "min      25.423000    77.458000\n",
      "25%      26.850000    81.005000\n",
      "50%      26.864000    81.021000\n",
      "75%      26.877000    81.041000\n",
      "max      29.290000    83.725000\n"
     ]
    }
   ],
   "source": [
    "# Perform exploratory data analysis\n",
    "print(df.head())\n",
    "print(df.describe())\n"
   ]
  },
  {
   "cell_type": "code",
   "execution_count": 11,
   "id": "adolescent-protection",
   "metadata": {},
   "outputs": [],
   "source": [
    "# Preprocess the data\n",
    "# Drop irrelevant columns\n",
    "df = df.drop(['District','Event', 'Circle', 'Caller Source',], axis=1)"
   ]
  },
  {
   "cell_type": "code",
   "execution_count": 12,
   "id": "informational-utilization",
   "metadata": {},
   "outputs": [
    {
     "name": "stdout",
     "output_type": "stream",
     "text": [
      "0       0\n",
      "1       0\n",
      "2       0\n",
      "3       0\n",
      "4       0\n",
      "       ..\n",
      "5123    3\n",
      "5124    3\n",
      "5125    3\n",
      "5126    3\n",
      "5127    3\n",
      "Name: Police Station, Length: 5128, dtype: int32\n"
     ]
    }
   ],
   "source": [
    "# Replace missing values with the mean value of the column\n",
    "df = df.fillna(df.mean())\n",
    "\n",
    "label_encoder = LabelEncoder()\n",
    "df['Police Station'] = label_encoder.fit_transform(df['Police Station'])\n",
    "print(df['Police Station'])"
   ]
  },
  {
   "cell_type": "code",
   "execution_count": 13,
   "id": "coated-newark",
   "metadata": {},
   "outputs": [
    {
     "data": {
      "text/html": [
       "<div>\n",
       "<style scoped>\n",
       "    .dataframe tbody tr th:only-of-type {\n",
       "        vertical-align: middle;\n",
       "    }\n",
       "\n",
       "    .dataframe tbody tr th {\n",
       "        vertical-align: top;\n",
       "    }\n",
       "\n",
       "    .dataframe thead th {\n",
       "        text-align: right;\n",
       "    }\n",
       "</style>\n",
       "<table border=\"1\" class=\"dataframe\">\n",
       "  <thead>\n",
       "    <tr style=\"text-align: right;\">\n",
       "      <th></th>\n",
       "      <th>Event Type</th>\n",
       "      <th>Event Sub-Type</th>\n",
       "      <th>Create Date/Time</th>\n",
       "      <th>Latitude</th>\n",
       "      <th>Longitude</th>\n",
       "    </tr>\n",
       "  </thead>\n",
       "  <tbody>\n",
       "    <tr>\n",
       "      <th>0</th>\n",
       "      <td>Information Against Police</td>\n",
       "      <td>Misbehavior By Prv</td>\n",
       "      <td>01-04-2021 00:00</td>\n",
       "      <td>-0.546530</td>\n",
       "      <td>-0.170541</td>\n",
       "    </tr>\n",
       "    <tr>\n",
       "      <th>1</th>\n",
       "      <td>Threat In Person</td>\n",
       "      <td>Attack</td>\n",
       "      <td>01-04-2021 12:09</td>\n",
       "      <td>-0.655086</td>\n",
       "      <td>-0.103913</td>\n",
       "    </tr>\n",
       "    <tr>\n",
       "      <th>2</th>\n",
       "      <td>Dispute</td>\n",
       "      <td>Dispute In Hospital</td>\n",
       "      <td>01-04-2021 12:51</td>\n",
       "      <td>-0.437974</td>\n",
       "      <td>-0.159436</td>\n",
       "    </tr>\n",
       "    <tr>\n",
       "      <th>3</th>\n",
       "      <td>Gambling</td>\n",
       "      <td>Play Cards</td>\n",
       "      <td>01-04-2021 13:10</td>\n",
       "      <td>-0.655086</td>\n",
       "      <td>-0.237169</td>\n",
       "    </tr>\n",
       "    <tr>\n",
       "      <th>4</th>\n",
       "      <td>Threat In Person</td>\n",
       "      <td>Attack</td>\n",
       "      <td>01-04-2021 13:18</td>\n",
       "      <td>-0.546530</td>\n",
       "      <td>0.107075</td>\n",
       "    </tr>\n",
       "    <tr>\n",
       "      <th>...</th>\n",
       "      <td>...</td>\n",
       "      <td>...</td>\n",
       "      <td>...</td>\n",
       "      <td>...</td>\n",
       "      <td>...</td>\n",
       "    </tr>\n",
       "    <tr>\n",
       "      <th>5123</th>\n",
       "      <td>Dispute</td>\n",
       "      <td>With Neighbor</td>\n",
       "      <td>30-06-2021 17:59</td>\n",
       "      <td>0.032435</td>\n",
       "      <td>0.029342</td>\n",
       "    </tr>\n",
       "    <tr>\n",
       "      <th>5124</th>\n",
       "      <td>Dispute</td>\n",
       "      <td>Dispute Between Ride And Driver</td>\n",
       "      <td>30-06-2021 18:01</td>\n",
       "      <td>-0.003750</td>\n",
       "      <td>-0.192750</td>\n",
       "    </tr>\n",
       "    <tr>\n",
       "      <th>5125</th>\n",
       "      <td>Cyber Crimes</td>\n",
       "      <td>Bank Account Hacking</td>\n",
       "      <td>30-06-2021 18:10</td>\n",
       "      <td>-0.003750</td>\n",
       "      <td>-0.281587</td>\n",
       "    </tr>\n",
       "    <tr>\n",
       "      <th>5126</th>\n",
       "      <td>Robbery</td>\n",
       "      <td>On Road</td>\n",
       "      <td>30-06-2021 18:33</td>\n",
       "      <td>0.159083</td>\n",
       "      <td>-0.003972</td>\n",
       "    </tr>\n",
       "    <tr>\n",
       "      <th>5127</th>\n",
       "      <td>Threat In Person</td>\n",
       "      <td>Threatening To Kill</td>\n",
       "      <td>30-06-2021 23:59</td>\n",
       "      <td>-0.021843</td>\n",
       "      <td>-0.248273</td>\n",
       "    </tr>\n",
       "  </tbody>\n",
       "</table>\n",
       "<p>5128 rows × 5 columns</p>\n",
       "</div>"
      ],
      "text/plain": [
       "                      Event Type                   Event Sub-Type  \\\n",
       "0     Information Against Police               Misbehavior By Prv   \n",
       "1               Threat In Person                           Attack   \n",
       "2                        Dispute              Dispute In Hospital   \n",
       "3                       Gambling                       Play Cards   \n",
       "4               Threat In Person                           Attack   \n",
       "...                          ...                              ...   \n",
       "5123                     Dispute                    With Neighbor   \n",
       "5124                     Dispute  Dispute Between Ride And Driver   \n",
       "5125                Cyber Crimes             Bank Account Hacking   \n",
       "5126                     Robbery                          On Road   \n",
       "5127            Threat In Person              Threatening To Kill   \n",
       "\n",
       "      Create Date/Time  Latitude  Longitude  \n",
       "0     01-04-2021 00:00 -0.546530  -0.170541  \n",
       "1     01-04-2021 12:09 -0.655086  -0.103913  \n",
       "2     01-04-2021 12:51 -0.437974  -0.159436  \n",
       "3     01-04-2021 13:10 -0.655086  -0.237169  \n",
       "4     01-04-2021 13:18 -0.546530   0.107075  \n",
       "...                ...       ...        ...  \n",
       "5123  30-06-2021 17:59  0.032435   0.029342  \n",
       "5124  30-06-2021 18:01 -0.003750  -0.192750  \n",
       "5125  30-06-2021 18:10 -0.003750  -0.281587  \n",
       "5126  30-06-2021 18:33  0.159083  -0.003972  \n",
       "5127  30-06-2021 23:59 -0.021843  -0.248273  \n",
       "\n",
       "[5128 rows x 5 columns]"
      ]
     },
     "execution_count": 13,
     "metadata": {},
     "output_type": "execute_result"
    }
   ],
   "source": [
    "# Normalize the data using StandardScaler\n",
    "\n",
    "scaler = StandardScaler()\n",
    "\n",
    "X = df.drop(['Police Station'], axis=1)\n",
    "\n",
    "# Select only the columns with numeric data types\n",
    "numeric_cols = X.select_dtypes(include=[np.number]).columns\n",
    "\n",
    "# Fit and transform the selected columns\n",
    "X[numeric_cols] = scaler.fit_transform(X[numeric_cols])\n",
    "\n",
    "# Assign the scaled values back to the original dataframe\n",
    "df[X.columns] = X\n",
    "X"
   ]
  },
  {
   "cell_type": "code",
   "execution_count": 14,
   "id": "complimentary-sierra",
   "metadata": {},
   "outputs": [],
   "source": [
    "from sklearn.preprocessing import OneHotEncoder\n",
    "\n",
    "# Create a OneHotEncoder object\n",
    "encoder = OneHotEncoder(handle_unknown='ignore')\n",
    "\n",
    "# Fit the encoder to the data and transform the data\n",
    "X_encoded = encoder.fit_transform(X)"
   ]
  },
  {
   "cell_type": "code",
   "execution_count": 27,
   "id": "perceived-ballet",
   "metadata": {},
   "outputs": [],
   "source": [
    "# Split the data into training and testing sets\n",
    "X_train, X_test, y_train, y_test = train_test_split(X_encoded, df['Police Station'], test_size=0.2, random_state=42)\n"
   ]
  },
  {
   "cell_type": "code",
   "execution_count": 16,
   "id": "lucky-standing",
   "metadata": {},
   "outputs": [
    {
     "name": "stdout",
     "output_type": "stream",
     "text": [
      "Decision Tree Classifier Results:\n",
      "Accuracy: 0.9122807017543859\n",
      "Confusion Matrix:\n",
      "[[145  13   0   0]\n",
      " [  7 225  12   4]\n",
      " [  2  20 440  13]\n",
      " [  0   4  15 126]]\n",
      "Classification Report:\n",
      "              precision    recall  f1-score   support\n",
      "\n",
      "           0       0.94      0.92      0.93       158\n",
      "           1       0.86      0.91      0.88       248\n",
      "           2       0.94      0.93      0.93       475\n",
      "           3       0.88      0.87      0.87       145\n",
      "\n",
      "    accuracy                           0.91      1026\n",
      "   macro avg       0.91      0.91      0.91      1026\n",
      "weighted avg       0.91      0.91      0.91      1026\n",
      "\n"
     ]
    }
   ],
   "source": [
    "# Train and evaluate a Decision Tree classifier\n",
    "dt_classifier = DecisionTreeClassifier(random_state=42)\n",
    "dt_classifier.fit(X_train, y_train)\n",
    "y_pred = dt_classifier.predict(X_test)\n",
    "print('Decision Tree Classifier Results:')\n",
    "print('Accuracy:', accuracy_score(y_test, y_pred))\n",
    "print('Confusion Matrix:')\n",
    "print(confusion_matrix(y_test, y_pred))\n",
    "print('Classification Report:')\n",
    "print(classification_report(y_test, y_pred))"
   ]
  },
  {
   "cell_type": "code",
   "execution_count": 30,
   "id": "technological-sleeve",
   "metadata": {},
   "outputs": [
    {
     "name": "stdout",
     "output_type": "stream",
     "text": [
      "[2 2 2 ... 1 2 0]\n",
      "Random Forest Classifier Results:\n",
      "Accuracy: 0.9103313840155945\n",
      "Confusion Matrix:\n",
      "[[128  10  19   1]\n",
      " [  4 234  10   0]\n",
      " [  1  12 454   8]\n",
      " [  0  11  16 118]]\n",
      "Classification Report:\n",
      "              precision    recall  f1-score   support\n",
      "\n",
      "           0       0.96      0.81      0.88       158\n",
      "           1       0.88      0.94      0.91       248\n",
      "           2       0.91      0.96      0.93       475\n",
      "           3       0.93      0.81      0.87       145\n",
      "\n",
      "    accuracy                           0.91      1026\n",
      "   macro avg       0.92      0.88      0.90      1026\n",
      "weighted avg       0.91      0.91      0.91      1026\n",
      "\n"
     ]
    }
   ],
   "source": [
    "# Train and evaluate a Random Forest classifier\n",
    "rf_classifier = RandomForestClassifier(random_state=42)\n",
    "rf_classifier.fit(X_train, y_train)\n",
    "y_pred = rf_classifier.predict(X_test)\n",
    "print(y_pred)\n",
    "print('Random Forest Classifier Results:')\n",
    "print('Accuracy:', accuracy_score(y_test, y_pred))\n",
    "print('Confusion Matrix:')\n",
    "print(confusion_matrix(y_test, y_pred))\n",
    "print('Classification Report:')\n",
    "print(classification_report(y_test, y_pred))"
   ]
  },
  {
   "cell_type": "code",
   "execution_count": 18,
   "id": "neither-issue",
   "metadata": {},
   "outputs": [
    {
     "name": "stdout",
     "output_type": "stream",
     "text": [
      "Support Vector Machine Classifier Results:\n",
      "Accuracy: 0.9317738791423001\n",
      "Confusion Matrix:\n",
      "[[127   6  25   0]\n",
      " [  5 236   6   1]\n",
      " [  2   3 463   7]\n",
      " [  0   5  10 130]]\n",
      "Classification Report:\n",
      "              precision    recall  f1-score   support\n",
      "\n",
      "           0       0.95      0.80      0.87       158\n",
      "           1       0.94      0.95      0.95       248\n",
      "           2       0.92      0.97      0.95       475\n",
      "           3       0.94      0.90      0.92       145\n",
      "\n",
      "    accuracy                           0.93      1026\n",
      "   macro avg       0.94      0.91      0.92      1026\n",
      "weighted avg       0.93      0.93      0.93      1026\n",
      "\n"
     ]
    }
   ],
   "source": [
    "# Train and evaluate a Support Vector Machine classifier\n",
    "svm_classifier = SVC(random_state=42)\n",
    "svm_classifier.fit(X_train, y_train)\n",
    "y_pred = svm_classifier.predict(X_test)\n",
    "print('Support Vector Machine Classifier Results:')\n",
    "print('Accuracy:', accuracy_score(y_test, y_pred))\n",
    "print('Confusion Matrix:')\n",
    "print(confusion_matrix(y_test, y_pred))\n",
    "print('Classification Report:')\n",
    "print(classification_report(y_test, y_pred))"
   ]
  },
  {
   "cell_type": "code",
   "execution_count": 19,
   "id": "expensive-glance",
   "metadata": {
    "scrolled": true
   },
   "outputs": [
    {
     "name": "stdout",
     "output_type": "stream",
     "text": [
      "K-means Clustering Results:\n",
      "Silhouette Score: 0.08164712246479305\n",
      "Cluster Centers: [[0.00706861 0.0004158  0.02577963 ... 0.0004158  0.         0.0004158 ]\n",
      " [0.         0.         0.         ... 0.         0.00064558 0.        ]\n",
      " [0.         0.         0.         ... 0.         0.         0.        ]\n",
      " [0.         0.         0.         ... 0.         0.         0.        ]]\n",
      "[0 3 1 ... 0 0 3]\n"
     ]
    }
   ],
   "source": [
    "# Train and evaluate a K-means clustering\n",
    "kmeans = KMeans(n_clusters=4, random_state=42)\n",
    "kmeans.fit(X_encoded)\n",
    "y_pred = kmeans.predict(X_encoded)\n",
    "print('K-means Clustering Results:')\n",
    "print('Silhouette Score:', silhouette_score(X_encoded, y_pred))\n",
    "print('Cluster Centers:', kmeans.cluster_centers_)\n",
    "print(y_pred)"
   ]
  },
  {
   "cell_type": "code",
   "execution_count": 20,
   "id": "confident-option",
   "metadata": {},
   "outputs": [
    {
     "data": {
      "image/png": "[encoded data removed]",
      "text/plain": [
       "<Figure size 432x288 with 1 Axes>"
      ]
     },
     "metadata": {
      "needs_background": "light"
     },
     "output_type": "display_data"
    }
   ],
   "source": [
    "import plotly.express as px\n",
    "\n",
    "# Assume X_encoded has more than two columns\n",
    "# Create a new DataFrame with the encoded data and the predicted clusters\n",
    "# df = pd.DataFrame(X_encoded.toarray(), columns=encoder.get_feature_names_out())\n",
    "# df['cluster'] = y_pred\n",
    "plt.scatter(X_encoded.toarray()[:, 0], X_encoded.toarray()[:, 1], c=y_pred, cmap='viridis')\n",
    "plt.scatter(kmeans.cluster_centers_[:, 0], kmeans.cluster_centers_[:, 1], c='red', marker='x')\n",
    "# Create a parallel coordinates plot of the data\n",
    "# fig = px.parallel_coordinates(df, color='cluster', color_continuous_scale='viridis')\n",
    "# fig.show()\n",
    "plt.title('K-means Clustering')\n",
    "plt.xlabel('Latitude')\n",
    "plt.ylabel('Longitude')\n",
    "plt.show()"
   ]
  },
  {
   "cell_type": "code",
   "execution_count": 21,
   "id": "vocational-still",
   "metadata": {},
   "outputs": [],
   "source": [
    "import pickle"
   ]
  },
  {
   "cell_type": "code",
   "execution_count": 22,
   "id": "honest-barbados",
   "metadata": {},
   "outputs": [],
   "source": [
    "pickle.dump(rf_classifier, open('model.pkl','wb'))"
   ]
  },
  {
   "cell_type": "code",
   "execution_count": 23,
   "id": "demanding-lithuania",
   "metadata": {},
   "outputs": [],
   "source": [
    "model=pickle.load(open('model.pkl','rb'))"
   ]
  },
  {
   "cell_type": "code",
   "execution_count": 28,
   "id": "russian-fiber",
   "metadata": {},
   "outputs": [
    {
     "name": "stdout",
     "output_type": "stream",
     "text": [
      "[2 2 2 ... 1 2 0]\n"
     ]
    }
   ],
   "source": [
    "print(model.predict(X_test))"
   ]
  },
  {
   "cell_type": "code",
   "execution_count": null,
   "id": "inside-investigation",
   "metadata": {},
   "outputs": [],
   "source": []
  }
 ],
 "metadata": {
  "kernelspec": {
   "display_name": "Python 3",
   "language": "python",
   "name": "python3"
  },
  "language_info": {
   "codemirror_mode": {
    "name": "ipython",
    "version": 3
   },
   "file_extension": ".py",
   "mimetype": "text/x-python",
   "name": "python",
   "nbconvert_exporter": "python",
   "pygments_lexer": "ipython3",
   "version": "3.8.0"
  }
 },
 "nbformat": 4,
 "nbformat_minor": 5
}
